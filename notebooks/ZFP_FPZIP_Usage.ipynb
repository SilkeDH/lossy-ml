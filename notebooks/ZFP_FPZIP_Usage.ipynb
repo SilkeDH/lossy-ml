{
 "cells": [
  {
   "cell_type": "markdown",
   "metadata": {},
   "source": [
    "## Compression with ZFP and FPZIP"
   ]
  },
  {
   "cell_type": "code",
   "execution_count": 1,
   "metadata": {},
   "outputs": [],
   "source": [
    "import zfpy\n",
    "import fpzip\n",
    "import numpy as np"
   ]
  },
  {
   "cell_type": "code",
   "execution_count": 2,
   "metadata": {},
   "outputs": [
    {
     "name": "stdout",
     "output_type": "stream",
     "text": [
      "ZFP - LOSSLESS\n",
      "# Bytes data: 152\n",
      "# Bytes compressed data: 64\n",
      "# Bytes decompressed data: 152\n"
     ]
    }
   ],
   "source": [
    "##### ZFP - LOSSLESS ######\n",
    "my_array = np.arange(1, 20)\n",
    "compressed_data = zfpy.compress_numpy(my_array)\n",
    "decompressed_array = zfpy.decompress_numpy(compressed_data)\n",
    "\n",
    "# confirm lossless compression/decompression\n",
    "np.testing.assert_array_equal(my_array, decompressed_array)\n",
    "\n",
    "print(\"ZFP - LOSSLESS\")\n",
    "print(\"# Bytes data:\", my_array.nbytes)\n",
    "print(\"# Bytes compressed data:\", len(compressed_data)) \n",
    "print(\"# Bytes decompressed data:\", decompressed_array.nbytes)"
   ]
  },
  {
   "cell_type": "code",
   "execution_count": 3,
   "metadata": {},
   "outputs": [
    {
     "name": "stdout",
     "output_type": "stream",
     "text": [
      "ZFP - LOSSY\n",
      "# Bytes data: 152\n",
      "# Bytes compressed data: 64\n",
      "# Bytes decompressed data: 152\n"
     ]
    }
   ],
   "source": [
    "##### ZFP - LOSSY ######\n",
    "compressed_data = zfpy.compress_numpy(my_array, tolerance=1e-3)\n",
    "decompressed_array = zfpy.decompress_numpy(compressed_data)\n",
    "\n",
    "# Note the change from \"equal\" to \"allclose\" due to the lossy compression\n",
    "#np.testing.assert_array_equal(my_array, decompressed_array)\n",
    "\n",
    "print(\"ZFP - LOSSY\")\n",
    "print(\"# Bytes data:\", my_array.nbytes)\n",
    "print(\"# Bytes compressed data:\", len(compressed_data))\n",
    "print(\"# Bytes decompressed data:\", decompressed_array.nbytes)"
   ]
  },
  {
   "cell_type": "code",
   "execution_count": 4,
   "metadata": {},
   "outputs": [],
   "source": [
    "np.testing.assert_allclose(my_array, decompressed_array, atol=1)  #It works ith atol=1??"
   ]
  },
  {
   "cell_type": "code",
   "execution_count": 5,
   "metadata": {},
   "outputs": [
    {
     "name": "stdout",
     "output_type": "stream",
     "text": [
      "FPZIP - LOSSY\n",
      "# Bytes data: 76\n",
      "# Bytes compressed data: 52\n",
      "# Bytes decompressed data: 76\n"
     ]
    }
   ],
   "source": [
    "##### FPZIP - LOSSY ######\n",
    "data = np.array(np.arange(1, 20), dtype=np.float32) # up to 4d float or double array\n",
    "# Compress data losslessly, interpreting the underlying buffer in C (default) or F order.\n",
    "compressed_bytes = fpzip.compress(data, precision=16, order='C') # returns byte string\n",
    "# Back to 3d or 4d float or double array, decode as C (default) or F order.\n",
    "data_again = fpzip.decompress(compressed_bytes, order='C') \n",
    "print(\"FPZIP - LOSSY\")\n",
    "print(\"# Bytes data:\", data.nbytes)\n",
    "print(\"# Bytes compressed data:\", len(compressed_bytes)) #is that how you meassure how many bytes? \n",
    "print(\"# Bytes decompressed data:\", data_again[0,0,0].nbytes) "
   ]
  },
  {
   "cell_type": "code",
   "execution_count": 6,
   "metadata": {},
   "outputs": [],
   "source": [
    "np.testing.assert_allclose(data, data_again[0,0,0], atol=1e-03)"
   ]
  }
 ],
 "metadata": {
  "kernelspec": {
   "display_name": "Python 3",
   "language": "python",
   "name": "python3"
  },
  "language_info": {
   "codemirror_mode": {
    "name": "ipython",
    "version": 3
   },
   "file_extension": ".py",
   "mimetype": "text/x-python",
   "name": "python",
   "nbconvert_exporter": "python",
   "pygments_lexer": "ipython3",
   "version": "3.6.8"
  }
 },
 "nbformat": 4,
 "nbformat_minor": 4
}
