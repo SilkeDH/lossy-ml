{
 "cells": [
  {
   "cell_type": "markdown",
   "metadata": {},
   "source": [
    "# Generating chunks from input data\n",
    "This notebook shows the process to generate chunks of given shape (time, latitude, longitude) from data of shape (time, latitude, longitude, channels). This script takes also into account shapes of chunks that are not multiple of the input by generating extra chunks and concatenating the remain left. It also contains the function to rebuild the data from the generated chunks."
   ]
  },
  {
   "cell_type": "code",
   "execution_count": null,
   "metadata": {},
   "outputs": [],
   "source": [
    "import xarray as xr"
   ]
  },
  {
   "cell_type": "code",
   "execution_count": 25,
   "metadata": {},
   "outputs": [
    {
     "data": {
      "text/plain": [
       "(20, 721, 721, 1)"
      ]
     },
     "execution_count": 25,
     "metadata": {},
     "output_type": "execute_result"
    }
   ],
   "source": [
    "data_x = xr.open_mfdataset('/lsdf/kit/scc/projects/abcde/1980/*/ERA5.pl.temperature.nc', combine='by_coords')\n",
    "data = data_x.sel(time=slice('1980-01-14T16:00:00','1980-01-15T23:00:00'),level = slice(978,1000), longitude=slice(-180,180), latitude=slice(90,-90))\n",
    "data = data.transpose('time', 'latitude', 'longitude', 'level')\n",
    "data = data['t'].values\n",
    "data.shape\n",
    "\n",
    "data = data[0:20,0:721,0:721,:]\n",
    "data.shape"
   ]
  },
  {
   "cell_type": "code",
   "execution_count": 26,
   "metadata": {},
   "outputs": [],
   "source": [
    "import numpy as np\n",
    "\n",
    "def chunk_data(data, size):\n",
    "    \"\"\"\n",
    "    Chunks data into (N, time, lat, lon, channels)\n",
    "    Args:\n",
    "    ===================\n",
    "    data: 4D - Numpy array (time, lat, lon, channels).\n",
    "    size: (t, lat, lon) of one chunk.\n",
    "    \n",
    "    Returns Numpy array with size (N-chunks, time, lat, long, channels)\n",
    "    \"\"\"\n",
    "    assert (data.shape[0] >= size[0] and data.shape[1] >= size[1] and data.shape[2] >= size[2]), 'Chunks size cannot be larger than the data size.'\n",
    "    \n",
    "    chunk_num = (int(np.ceil(data.shape[0]/size[0]) ), int(np.ceil(data.shape[1]/size[1])), int(np.ceil(data.shape[2] /size[2])))\n",
    "    \n",
    "    length = int(np.prod(chunk_num)) \n",
    "    \n",
    "    x = np.stack([calculateValues(data, i, size, chunk_num) for i in range(length)], axis = 0)\n",
    "    \n",
    "    return x\n",
    "\n",
    "def calculateValues(data, i, size, chunk_num):\n",
    "    tix, latix, lonix = np.unravel_index(i, chunk_num)\n",
    "\n",
    "    if (tix*size[0] + size[0]) > data.shape[0]:\n",
    "        out = data[-size[0]:, latix*size[1]: latix*size[1] + size[1], lonix*size[2]: lonix*size[2] + size[2]]\n",
    "        \n",
    "        if ((latix*size[1] + size[1]) > data.shape[1]) and ((lonix*size[2] + size[2]) > data.shape[2]):\n",
    "            out = data[-size[0]:, -size[1]:, -size[2]:]\n",
    "        elif(latix*size[1] + size[1]) > data.shape[1]:\n",
    "            out = data[-size[0]:, -size[1]: ,  lonix*size[2]: lonix*size[2] + size[2]]\n",
    "        elif(lonix*size[2] + size[2]) > data.shape[2]:\n",
    "            out = data[-size[0]:, latix*size[1]: latix*size[1] + size[1], -size[2]:]\n",
    "        \n",
    "    elif (latix*size[1] + size[1]) > data.shape[1]:\n",
    "        out = data[tix*size[0]: tix*size[0] + size[0], -size[1]: , lonix*size[2]: lonix*size[2] + size[2]]\n",
    "        if(lonix*size[2] + size[2]) > data.shape[2]:\n",
    "            out = data[tix*size[0]: tix*size[0] + size[0], -size[1]: , -size[2]:]\n",
    "        \n",
    "    elif (lonix*size[2] + size[2]) > data.shape[2]:\n",
    "        out = data[tix*size[0]: tix*size[0] + size[0], latix*size[1]: latix*size[1] + size[1], -size[2]:]\n",
    "\n",
    "    else:\n",
    "        out = data[tix*size[0]: tix*size[0] + size[0], latix*size[1]: latix*size[1] + size[1], lonix*size[2]: lonix*size[2] + size[2]]\n",
    "        \n",
    "    return out"
   ]
  },
  {
   "cell_type": "code",
   "execution_count": 27,
   "metadata": {},
   "outputs": [
    {
     "data": {
      "text/plain": [
       "(512, 16, 48, 48, 1)"
      ]
     },
     "execution_count": 27,
     "metadata": {},
     "output_type": "execute_result"
    }
   ],
   "source": [
    "res = chunk_data(data, (16, 48, 48))\n",
    "res.shape"
   ]
  },
  {
   "cell_type": "markdown",
   "metadata": {},
   "source": [
    "# Merging chunks to generate the input"
   ]
  },
  {
   "cell_type": "code",
   "execution_count": 28,
   "metadata": {},
   "outputs": [],
   "source": [
    "def merge_data(data, size):\n",
    "    \"\"\"\n",
    "    Merges data into (time, lat, lon, channels)\n",
    "    Args:\n",
    "    =======================\n",
    "    data: 5D - Numpy array.(N-chunks, time, lat, lon, channels)\n",
    "    size: (time, lat, lon, attr.) size of the output data.\n",
    "    \n",
    "    Returns complete data (t, lat, long, channels)\n",
    "    \"\"\"\n",
    "    \n",
    "    chunks_size = data.shape[1:4]\n",
    "    num_chunks = (int(np.ceil(size[0]/chunks_size[0]) ), int(np.ceil(size[1]/chunks_size[1])), int(np.ceil(size[2] /chunks_size[2])))\n",
    "    x = np.concatenate([ np.concatenate([np.concatenate(\n",
    "        [ select_chunk(data,i,j,k,num_chunks, chunks_size, size)\n",
    "        for i in range(num_chunks[2])], axis=2)for j in range(num_chunks[1])], axis = 1)\n",
    "                         for k in range(num_chunks[0])], axis = 0)\n",
    "    return x\n",
    "     \n",
    "def select_chunk(data, i, j, k, num_chunks, chunks_size, size):\n",
    "\n",
    "    if ((i * chunks_size[2] +chunks_size[2]) > size[2]):\n",
    "        mn = chunks_size[2] - ((i * chunks_size[2] + chunks_size[2])- size[2])\n",
    "        out = data[(k*num_chunks[1]* num_chunks[2]) +  (j*num_chunks[2]) + i][:,:,-mn:]\n",
    "        \n",
    "        if ((j * chunks_size[1] + chunks_size[1])  > size[1]):\n",
    "            mn = chunks_size[1] - ((j * chunks_size[1] + chunks_size[1]) - size[1])\n",
    "            out = out[:,-mn:,:]\n",
    "            \n",
    "        if ((k * chunks_size[0]+ chunks_size[0]) >size[0]):\n",
    "            mn = chunks_size[0] - ((k * chunks_size[0] + chunks_size[0]) - size[0])\n",
    "            out = out[-mn:,:,:]  \n",
    "        \n",
    "            \n",
    "    elif ((j * chunks_size[1] + chunks_size[1])  > size[1]):\n",
    "        mn = chunks_size[1] - ((j * chunks_size[1] + chunks_size[1]) - size[1])\n",
    "        out = data[(k*num_chunks[1]* num_chunks[2]) +  (j*num_chunks[2]) + i][:,-mn:,:]\n",
    "        if ((k * chunks_size[0]+ chunks_size[0]) >size[0]):\n",
    "            mn = chunks_size[0] - ((k * chunks_size[0] + chunks_size[0]) - size[0])\n",
    "            out = out[-mn:,:,:]\n",
    "            \n",
    "    elif ((k * chunks_size[0]+ chunks_size[0]) > size[0]):\n",
    "        mn = chunks_size[0] - ((k * chunks_size[0] + chunks_size[0]) - size[0])\n",
    "        out = data[(k*num_chunks[1]* num_chunks[2]) +  (j*num_chunks[2]) + i][-mn:,:,:]\n",
    "\n",
    "\n",
    "    else:\n",
    "        out = data[(k*num_chunks[1]* num_chunks[2]) +  (j*num_chunks[2]) + i]\n",
    "    return out"
   ]
  },
  {
   "cell_type": "code",
   "execution_count": 29,
   "metadata": {},
   "outputs": [],
   "source": [
    "out = merge_data(res, data.shape)"
   ]
  },
  {
   "cell_type": "code",
   "execution_count": 30,
   "metadata": {},
   "outputs": [
    {
     "data": {
      "text/plain": [
       "True"
      ]
     },
     "execution_count": 30,
     "metadata": {},
     "output_type": "execute_result"
    }
   ],
   "source": [
    "np.all(out == data) #Checking if the merged data corresponds to the input data."
   ]
  }
 ],
 "metadata": {
  "kernelspec": {
   "display_name": "Python 3",
   "language": "python",
   "name": "python3"
  },
  "language_info": {
   "codemirror_mode": {
    "name": "ipython",
    "version": 3
   },
   "file_extension": ".py",
   "mimetype": "text/x-python",
   "name": "python",
   "nbconvert_exporter": "python",
   "pygments_lexer": "ipython3",
   "version": "3.6.8"
  }
 },
 "nbformat": 4,
 "nbformat_minor": 4
}
